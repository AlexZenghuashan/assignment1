{
 "cells": [
  {
   "cell_type": "code",
   "execution_count": 9,
   "metadata": {},
   "outputs": [],
   "source": [
    "import csv\n",
    "import codecs\n",
    "import pandas as pd\n",
    "import requests\n",
    "from bs4 import BeautifulSoup\n",
    "\n",
    "url = 'https://www.qidian.com/all?chanId=2&subCateId=5&size=1&action=0&orderId=&vip=0&month=3&update=1&style=1&pageSize=20&siteid=1&pubflag=0&hiddenField=0&page=1'\n",
    "url_list=[]\n",
    "for i in range(0,12):\n",
    "    page_number=str(i+1)\n",
    "    url2 ='https://www.qidian.com/all?chanId=2&subCateId=5&size=1&action=0&orderId=&page=1&vip=0&month=3&update=1&style=1&pageSize=20&siteid=1&pubflag=0&hiddenField=&page='+ page_number\n",
    "    url_list.append(url2)"
   ]
  },
  {
   "cell_type": "code",
   "execution_count": 10,
   "metadata": {},
   "outputs": [],
   "source": [
    "r = requests.get(url)\n",
    "r.encoding = 'utf-8'\n",
    "data = BeautifulSoup(r.text, 'lxml')\n",
    "content = data.find('div', attrs={'class':'book-img-text'})\n",
    "lis = content.find_all('li')"
   ]
  },
  {
   "cell_type": "code",
   "execution_count": 11,
   "metadata": {},
   "outputs": [],
   "source": [
    "def scrape_one_page(url):\n",
    "    r = requests.get(url)\n",
    "    r.encoding = 'utf-8'\n",
    "    data = BeautifulSoup(r.text, 'lxml')\n",
    "    content = data.find('div', attrs={'class':'book-img-text'})\n",
    "    lis = content.find_all('li')\n",
    "    all_content = []\n",
    "    for li in lis:\n",
    "        bookname = li.find('h4').text\n",
    "        authors = li.find('a', attrs={'class':'name'}).text\n",
    "        types = li.find('a', attrs={'class':'go-sub-type'}).text\n",
    "        condition = li.find('span').text\n",
    "        introduction = li.find('p', attrs={'class':'intro'}).text.replace('\\r','')\n",
    "        all_content.append([bookname,authors,types,condition,introduction])\n",
    "    return all_content "
   ]
  },
  {
   "cell_type": "code",
   "execution_count": null,
   "metadata": {},
   "outputs": [],
   "source": [
    "all_data = []\n",
    "for url in url_list:\n",
    "    data = scrape_one_page(url)\n",
    "    all_data.extend(data)"
   ]
  },
  {
   "cell_type": "code",
   "execution_count": null,
   "metadata": {},
   "outputs": [],
   "source": [
    "with open('assignment1_Alex.csv', 'w', newline = '') as file:\n",
    "    header=['name','author','type','condition','introduction']\n",
    "    writer = csv.writer(file)\n",
    "    writer.writerow(header)\n",
    "    writer.writerows(all_data) "
   ]
  },
  {
   "cell_type": "code",
   "execution_count": null,
   "metadata": {},
   "outputs": [],
   "source": []
  }
 ],
 "metadata": {
  "kernelspec": {
   "display_name": "Python 3",
   "language": "python",
   "name": "python3"
  },
  "language_info": {
   "codemirror_mode": {
    "name": "ipython",
    "version": 3
   },
   "file_extension": ".py",
   "mimetype": "text/x-python",
   "name": "python",
   "nbconvert_exporter": "python",
   "pygments_lexer": "ipython3",
   "version": "3.7.0"
  }
 },
 "nbformat": 4,
 "nbformat_minor": 2
}
